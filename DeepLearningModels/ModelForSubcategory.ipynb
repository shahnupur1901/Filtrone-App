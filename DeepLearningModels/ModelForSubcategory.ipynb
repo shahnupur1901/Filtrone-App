{
  "nbformat": 4,
  "nbformat_minor": 0,
  "metadata": {
    "colab": {
      "name": "ModelForSubcategory.ipynb",
      "provenance": [],
      "authorship_tag": "ABX9TyPrIuursmaoPqWaCwSGPcLd",
      "include_colab_link": true
    },
    "kernelspec": {
      "display_name": "Python 3",
      "name": "python3"
    },
    "language_info": {
      "name": "python"
    }
  },
  "cells": [
    {
      "cell_type": "markdown",
      "metadata": {
        "id": "view-in-github",
        "colab_type": "text"
      },
      "source": [
        "<a href=\"https://colab.research.google.com/github/shahnupur1901/Filtrone-App/blob/master/DeepLearningModels/ModelForSubcategory.ipynb\" target=\"_parent\"><img src=\"https://colab.research.google.com/assets/colab-badge.svg\" alt=\"Open In Colab\"/></a>"
      ]
    },
    {
      "cell_type": "code",
      "metadata": {
        "id": "DirGX_HnxvoI"
      },
      "source": [
        "! pip install kaggle\n",
        "! mkdir ~/.kaggle\n",
        "! cp kaggle.json ~/.kaggle/\n",
        "! chmod 600 ~/.kaggle/kaggle.json\n",
        "! kaggle datasets download paramaggarwal/fashion-product-images-small\n",
        "! unzip /content/fashion-product-images-small.zip"
      ],
      "execution_count": null,
      "outputs": []
    },
    {
      "cell_type": "code",
      "metadata": {
        "colab": {
          "base_uri": "https://localhost:8080/"
        },
        "id": "1RrfT4HRx78Z",
        "outputId": "3c264022-9fdb-455d-ba7a-e966312d6279"
      },
      "source": [
        "import numpy as np\n",
        "import pandas as pd\n",
        "import os\n",
        "path = \"/content/myntradataset\"\n",
        "csv_path = \"/content/myntradataset/styles.csv\"\n",
        "img_path = \"/content/myntradataset/images\"\n",
        "df = pd.read_csv(csv_path, error_bad_lines=False, warn_bad_lines=False)\n",
        "\n",
        "df = df[df['baseColour'].notna()]\n",
        "df['id'] = df['id'].apply(lambda x: str(x)+'.jpg')\n",
        "df = df[df['id'].isin(os.listdir(img_path))]\n",
        "df = df.reset_index(drop=True)\n",
        "print('DF shape:', df.shape)"
      ],
      "execution_count": null,
      "outputs": [
        {
          "output_type": "stream",
          "name": "stdout",
          "text": [
            "DF shape: (44404, 10)\n"
          ]
        }
      ]
    },
    {
      "cell_type": "code",
      "metadata": {
        "colab": {
          "base_uri": "https://localhost:8080/",
          "height": 419
        },
        "id": "fe_Vt5XtyCU3",
        "outputId": "6c0b4b73-cfb0-49b4-e093-1a81f6a82f2f"
      },
      "source": [
        "df = df.groupby(['subCategory']).filter(lambda x: len(x) >= 30)\n",
        "df.shape[0]\n",
        "df.sample(frac=1, axis=1)"
      ],
      "execution_count": null,
      "outputs": [
        {
          "output_type": "execute_result",
          "data": {
            "text/html": [
              "<div>\n",
              "<style scoped>\n",
              "    .dataframe tbody tr th:only-of-type {\n",
              "        vertical-align: middle;\n",
              "    }\n",
              "\n",
              "    .dataframe tbody tr th {\n",
              "        vertical-align: top;\n",
              "    }\n",
              "\n",
              "    .dataframe thead th {\n",
              "        text-align: right;\n",
              "    }\n",
              "</style>\n",
              "<table border=\"1\" class=\"dataframe\">\n",
              "  <thead>\n",
              "    <tr style=\"text-align: right;\">\n",
              "      <th></th>\n",
              "      <th>usage</th>\n",
              "      <th>id</th>\n",
              "      <th>baseColour</th>\n",
              "      <th>year</th>\n",
              "      <th>subCategory</th>\n",
              "      <th>masterCategory</th>\n",
              "      <th>articleType</th>\n",
              "      <th>season</th>\n",
              "      <th>gender</th>\n",
              "      <th>productDisplayName</th>\n",
              "    </tr>\n",
              "  </thead>\n",
              "  <tbody>\n",
              "    <tr>\n",
              "      <th>0</th>\n",
              "      <td>Casual</td>\n",
              "      <td>15970.jpg</td>\n",
              "      <td>Navy Blue</td>\n",
              "      <td>2011.0</td>\n",
              "      <td>Topwear</td>\n",
              "      <td>Apparel</td>\n",
              "      <td>Shirts</td>\n",
              "      <td>Fall</td>\n",
              "      <td>Men</td>\n",
              "      <td>Turtle Check Men Navy Blue Shirt</td>\n",
              "    </tr>\n",
              "    <tr>\n",
              "      <th>1</th>\n",
              "      <td>Casual</td>\n",
              "      <td>39386.jpg</td>\n",
              "      <td>Blue</td>\n",
              "      <td>2012.0</td>\n",
              "      <td>Bottomwear</td>\n",
              "      <td>Apparel</td>\n",
              "      <td>Jeans</td>\n",
              "      <td>Summer</td>\n",
              "      <td>Men</td>\n",
              "      <td>Peter England Men Party Blue Jeans</td>\n",
              "    </tr>\n",
              "    <tr>\n",
              "      <th>2</th>\n",
              "      <td>Casual</td>\n",
              "      <td>59263.jpg</td>\n",
              "      <td>Silver</td>\n",
              "      <td>2016.0</td>\n",
              "      <td>Watches</td>\n",
              "      <td>Accessories</td>\n",
              "      <td>Watches</td>\n",
              "      <td>Winter</td>\n",
              "      <td>Women</td>\n",
              "      <td>Titan Women Silver Watch</td>\n",
              "    </tr>\n",
              "    <tr>\n",
              "      <th>3</th>\n",
              "      <td>Casual</td>\n",
              "      <td>21379.jpg</td>\n",
              "      <td>Black</td>\n",
              "      <td>2011.0</td>\n",
              "      <td>Bottomwear</td>\n",
              "      <td>Apparel</td>\n",
              "      <td>Track Pants</td>\n",
              "      <td>Fall</td>\n",
              "      <td>Men</td>\n",
              "      <td>Manchester United Men Solid Black Track Pants</td>\n",
              "    </tr>\n",
              "    <tr>\n",
              "      <th>4</th>\n",
              "      <td>Casual</td>\n",
              "      <td>53759.jpg</td>\n",
              "      <td>Grey</td>\n",
              "      <td>2012.0</td>\n",
              "      <td>Topwear</td>\n",
              "      <td>Apparel</td>\n",
              "      <td>Tshirts</td>\n",
              "      <td>Summer</td>\n",
              "      <td>Men</td>\n",
              "      <td>Puma Men Grey T-shirt</td>\n",
              "    </tr>\n",
              "    <tr>\n",
              "      <th>...</th>\n",
              "      <td>...</td>\n",
              "      <td>...</td>\n",
              "      <td>...</td>\n",
              "      <td>...</td>\n",
              "      <td>...</td>\n",
              "      <td>...</td>\n",
              "      <td>...</td>\n",
              "      <td>...</td>\n",
              "      <td>...</td>\n",
              "      <td>...</td>\n",
              "    </tr>\n",
              "    <tr>\n",
              "      <th>44399</th>\n",
              "      <td>Casual</td>\n",
              "      <td>17036.jpg</td>\n",
              "      <td>White</td>\n",
              "      <td>2013.0</td>\n",
              "      <td>Shoes</td>\n",
              "      <td>Footwear</td>\n",
              "      <td>Casual Shoes</td>\n",
              "      <td>Summer</td>\n",
              "      <td>Men</td>\n",
              "      <td>Gas Men Caddy Casual Shoe</td>\n",
              "    </tr>\n",
              "    <tr>\n",
              "      <th>44400</th>\n",
              "      <td>Casual</td>\n",
              "      <td>6461.jpg</td>\n",
              "      <td>Red</td>\n",
              "      <td>2011.0</td>\n",
              "      <td>Flip Flops</td>\n",
              "      <td>Footwear</td>\n",
              "      <td>Flip Flops</td>\n",
              "      <td>Summer</td>\n",
              "      <td>Men</td>\n",
              "      <td>Lotto Men's Soccer Track Flip Flop</td>\n",
              "    </tr>\n",
              "    <tr>\n",
              "      <th>44401</th>\n",
              "      <td>Casual</td>\n",
              "      <td>18842.jpg</td>\n",
              "      <td>Blue</td>\n",
              "      <td>2011.0</td>\n",
              "      <td>Topwear</td>\n",
              "      <td>Apparel</td>\n",
              "      <td>Tshirts</td>\n",
              "      <td>Fall</td>\n",
              "      <td>Men</td>\n",
              "      <td>Puma Men Graphic Stellar Blue Tshirt</td>\n",
              "    </tr>\n",
              "    <tr>\n",
              "      <th>44402</th>\n",
              "      <td>Casual</td>\n",
              "      <td>46694.jpg</td>\n",
              "      <td>Blue</td>\n",
              "      <td>2017.0</td>\n",
              "      <td>Fragrance</td>\n",
              "      <td>Personal Care</td>\n",
              "      <td>Perfume and Body Mist</td>\n",
              "      <td>Spring</td>\n",
              "      <td>Women</td>\n",
              "      <td>Rasasi Women Blue Lady Perfume</td>\n",
              "    </tr>\n",
              "    <tr>\n",
              "      <th>44403</th>\n",
              "      <td>Casual</td>\n",
              "      <td>51623.jpg</td>\n",
              "      <td>Pink</td>\n",
              "      <td>2016.0</td>\n",
              "      <td>Watches</td>\n",
              "      <td>Accessories</td>\n",
              "      <td>Watches</td>\n",
              "      <td>Winter</td>\n",
              "      <td>Women</td>\n",
              "      <td>Fossil Women Pink Dial Chronograph Watch ES3050</td>\n",
              "    </tr>\n",
              "  </tbody>\n",
              "</table>\n",
              "<p>44276 rows × 10 columns</p>\n",
              "</div>"
            ],
            "text/plain": [
              "        usage  ...                               productDisplayName\n",
              "0      Casual  ...                 Turtle Check Men Navy Blue Shirt\n",
              "1      Casual  ...               Peter England Men Party Blue Jeans\n",
              "2      Casual  ...                         Titan Women Silver Watch\n",
              "3      Casual  ...    Manchester United Men Solid Black Track Pants\n",
              "4      Casual  ...                            Puma Men Grey T-shirt\n",
              "...       ...  ...                                              ...\n",
              "44399  Casual  ...                        Gas Men Caddy Casual Shoe\n",
              "44400  Casual  ...               Lotto Men's Soccer Track Flip Flop\n",
              "44401  Casual  ...             Puma Men Graphic Stellar Blue Tshirt\n",
              "44402  Casual  ...                   Rasasi Women Blue Lady Perfume\n",
              "44403  Casual  ...  Fossil Women Pink Dial Chronograph Watch ES3050\n",
              "\n",
              "[44276 rows x 10 columns]"
            ]
          },
          "metadata": {},
          "execution_count": 4
        }
      ]
    },
    {
      "cell_type": "code",
      "metadata": {
        "colab": {
          "base_uri": "https://localhost:8080/"
        },
        "id": "gN5FPmMWFDry",
        "outputId": "3f0bb00f-bc2c-4994-fdb9-796b3b4b1f03"
      },
      "source": [
        "df.groupby(['subCategory']).size()"
      ],
      "execution_count": null,
      "outputs": [
        {
          "output_type": "execute_result",
          "data": {
            "text/plain": [
              "subCategory\n",
              "Apparel Set                   106\n",
              "Bags                         3055\n",
              "Belts                         811\n",
              "Bottomwear                   2687\n",
              "Dress                         478\n",
              "Eyewear                      1073\n",
              "Flip Flops                    913\n",
              "Fragrance                    1003\n",
              "Free Gifts                    104\n",
              "Headwear                      293\n",
              "Innerwear                    1808\n",
              "Jewellery                    1079\n",
              "Lips                          527\n",
              "Loungewear and Nightwear      470\n",
              "Mufflers                       38\n",
              "Sandal                        963\n",
              "Saree                         427\n",
              "Shoes                        7343\n",
              "Socks                         698\n",
              "Ties                          258\n",
              "Topwear                     15398\n",
              "Wallets                       933\n",
              "Watches                      2542\n",
              "dtype: int64"
            ]
          },
          "metadata": {},
          "execution_count": 9
        }
      ]
    },
    {
      "cell_type": "code",
      "metadata": {
        "id": "SbmIXTgkFWg0"
      },
      "source": [
        "df = df[df.subCategory != \"Accessories\"]\n",
        "df = df[df.subCategory != \"Skin Care\"]\n",
        "df = df[df.subCategory != \"Muffler\"]\n",
        "df = df[df.subCategory != \"Scarves\"]\n",
        "df = df[df.subCategory != \"Cufflinks\"]\n",
        "df = df[df.subCategory != \"Eyes\"]\n",
        "df = df[df.subCategory != \"Makeup\"]\n",
        "df = df[df.subCategory != \"Nails\"]\n",
        "df = df[df.subCategory != \"Stoles\"]\n",
        "df = df[df.subCategory != \"Wallet\"]"
      ],
      "execution_count": null,
      "outputs": []
    },
    {
      "cell_type": "code",
      "metadata": {
        "id": "Clk7lA41yJ_j"
      },
      "source": [
        "from sklearn.model_selection import train_test_split\n",
        "train_df, test_df = train_test_split(df,test_size = 0.15, random_state=42)\n",
        "train_df, validation_df = train_test_split(df,test_size = 0.15, random_state=57)"
      ],
      "execution_count": null,
      "outputs": []
    },
    {
      "cell_type": "code",
      "metadata": {
        "colab": {
          "base_uri": "https://localhost:8080/"
        },
        "id": "I4hzgjqxyRJc",
        "outputId": "ad1a10d1-2f23-4245-8ca2-76ee00b4aa22"
      },
      "source": [
        "df.head()\n",
        "\n",
        "batch_size = 16\n",
        "\n",
        "from keras_preprocessing.image import ImageDataGenerator\n",
        "\n",
        "train_image_generator = ImageDataGenerator(\n",
        "    rescale= 1./255,\n",
        "    shear_range=0.2,\n",
        "        zoom_range=0.2,\n",
        "        horizontal_flip=True\n",
        "    #validation_split=0.2\n",
        ")\n",
        "validation_image_generator = ImageDataGenerator(\n",
        "    rescale= 1./255,\n",
        "    #validation_split=0.2\n",
        ")\n",
        "\n",
        "training_generator = train_image_generator.flow_from_dataframe(\n",
        "    dataframe=train_df,\n",
        "    directory=img_path,\n",
        "    x_col=\"id\",\n",
        "    y_col=\"subCategory\",\n",
        "    target_size=(96,96),\n",
        "    batch_size=batch_size,\n",
        "    #subset=\"training\"\n",
        ")\n",
        "\n",
        "validation_generator = validation_image_generator.flow_from_dataframe(\n",
        "    dataframe=validation_df,\n",
        "    directory=img_path,\n",
        "    x_col=\"id\",\n",
        "    y_col=\"subCategory\",\n",
        "    target_size=(96,96),\n",
        "    batch_size=batch_size,\n",
        "    #subset=\"validation\"\n",
        ")\n",
        "test_generator = validation_image_generator.flow_from_dataframe(\n",
        "    dataframe=test_df,\n",
        "    directory=img_path,\n",
        "    x_col=\"id\",\n",
        "    y_col=\"subCategory\",\n",
        "    target_size=(96,96),\n",
        "    batch_size=batch_size,\n",
        "    #subset=\"validation\"\n",
        ")\n",
        "\n",
        "classes = len(training_generator.class_indices)\n",
        "#print(training_generator.class_indices)\n",
        "#print(validation_generator.class_indices)"
      ],
      "execution_count": null,
      "outputs": [
        {
          "output_type": "stream",
          "name": "stdout",
          "text": [
            "Found 36555 validated image filenames belonging to 23 classes.\n",
            "Found 6452 validated image filenames belonging to 23 classes.\n",
            "Found 6452 validated image filenames belonging to 23 classes.\n"
          ]
        }
      ]
    },
    {
      "cell_type": "code",
      "metadata": {
        "id": "PuHeucuZyZg4"
      },
      "source": [
        "import tensorflow as tf\n",
        "from tensorflow import keras\n",
        "from keras.layers import Conv2D, MaxPooling2D, Flatten, Dense, BatchNormalization,Dropout\n",
        "from keras.models import Sequential\n",
        "\n",
        "model = Sequential()\n",
        "\n",
        "model.add(Conv2D(32,(3,3), activation = 'relu', input_shape = (96,96,3)))\n",
        "model.add(MaxPooling2D(pool_size = (2,2)))\n",
        "model.add(Conv2D(32,(3,3), activation = 'relu'))\n",
        "model.add(MaxPooling2D(pool_size = (2,2)))\n",
        "model.add(BatchNormalization())\n",
        "model.add(Conv2D(32,(3,3), activation = 'relu'))\n",
        "model.add(MaxPooling2D(pool_size = (2,2)))\n",
        "model.add(BatchNormalization())\n",
        "model.add(Flatten())\n",
        "model.add(Dense(256, activation='relu'))\n",
        "model.add(Dropout(0.25))\n",
        "model.add(Dense(classes, activation='softmax'))\n",
        "\n",
        "model.compile(optimizer=keras.optimizers.Adam(learning_rate=0.0005), loss=tf.keras.losses.categorical_crossentropy, metrics=['accuracy'])\n",
        "model.summary()\n",
        "batch_size = 16\n",
        "total_train = train_df.shape[0]\n",
        "total_validation = validation_df.shape[0]\n",
        "vgg_classifier = model.fit(training_generator,\n",
        "steps_per_epoch=(total_train//batch_size),\n",
        "epochs = 10,\n",
        "validation_data=validation_generator,\n",
        "validation_steps=(total_validation//batch_size),\n",
        "batch_size = batch_size,\n",
        "verbose=1)"
      ],
      "execution_count": null,
      "outputs": []
    },
    {
      "cell_type": "code",
      "metadata": {
        "colab": {
          "base_uri": "https://localhost:8080/"
        },
        "id": "fZMv-2Ei9v_r",
        "outputId": "be045297-4964-4a49-f4c6-ad366ba821fa"
      },
      "source": [
        "model.save('modelForSubcategory.h5')\n",
        "result = model.evaluate(test_generator,batch_size=16)\n",
        "print(\"test_loss, test accuracy\",result)"
      ],
      "execution_count": null,
      "outputs": [
        {
          "output_type": "stream",
          "name": "stdout",
          "text": [
            "416/416 [==============================] - 19s 46ms/step - loss: 0.2287 - accuracy: 0.9303\n",
            "test_loss, test accuracy [0.2286962866783142, 0.9302920699119568]\n"
          ]
        }
      ]
    }
  ]
}