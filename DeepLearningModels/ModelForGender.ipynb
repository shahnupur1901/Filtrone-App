{
  "nbformat": 4,
  "nbformat_minor": 0,
  "metadata": {
    "colab": {
      "name": "ModelForGender.ipynb",
      "provenance": [],
      "collapsed_sections": [],
      "authorship_tag": "ABX9TyNfC8D3w3p/n7QD089FKie6",
      "include_colab_link": true
    },
    "kernelspec": {
      "display_name": "Python 3",
      "name": "python3"
    },
    "language_info": {
      "name": "python"
    }
  },
  "cells": [
    {
      "cell_type": "markdown",
      "metadata": {
        "id": "view-in-github",
        "colab_type": "text"
      },
      "source": [
        "<a href=\"https://colab.research.google.com/github/shahnupur1901/Filtrone-App/blob/master/DeepLearningModels/ModelForGender.ipynb\" target=\"_parent\"><img src=\"https://colab.research.google.com/assets/colab-badge.svg\" alt=\"Open In Colab\"/></a>"
      ]
    },
    {
      "cell_type": "code",
      "metadata": {
        "id": "Fy-NkQGLzWn8"
      },
      "source": [
        "! pip install kaggle\n",
        "! mkdir ~/.kaggle\n",
        "! cp kaggle.json ~/.kaggle/\n",
        "! chmod 600 ~/.kaggle/kaggle.json\n",
        "! kaggle datasets download paramaggarwal/fashion-product-images-small\n",
        "! unzip /content/fashion-product-images-small.zip"
      ],
      "execution_count": null,
      "outputs": []
    },
    {
      "cell_type": "code",
      "metadata": {
        "colab": {
          "base_uri": "https://localhost:8080/"
        },
        "id": "qHsvfiRw1Ag7",
        "outputId": "52631612-2e8d-4c9e-b5ef-754b4cfcca94"
      },
      "source": [
        "import numpy as np\n",
        "import pandas as pd\n",
        "import os\n",
        "path = \"/content/myntradataset\"\n",
        "csv_path = \"/content/myntradataset/styles.csv\"\n",
        "img_path = \"/content/myntradataset/images\"\n",
        "df = pd.read_csv(csv_path, error_bad_lines=False, warn_bad_lines=False)\n",
        "\n",
        "df = df[df['baseColour'].notna()]\n",
        "df['id'] = df['id'].apply(lambda x: str(x)+'.jpg')\n",
        "df = df[df['id'].isin(os.listdir(img_path))]\n",
        "df = df.reset_index(drop=True)\n",
        "df = df.groupby(['subCategory']).filter(lambda x: len(x) >= 30)\n",
        "print('DF shape:', df.shape)"
      ],
      "execution_count": null,
      "outputs": [
        {
          "name": "stdout",
          "output_type": "stream",
          "text": [
            "DF shape: (44276, 10)\n"
          ]
        }
      ]
    },
    {
      "cell_type": "code",
      "metadata": {
        "id": "6iiArD7w1NXH"
      },
      "source": [
        "from sklearn.model_selection import train_test_split\n",
        "train_df, test_df = train_test_split(df,test_size = 0.1, random_state=42)\n",
        "train_df, validation_df = train_test_split(df,test_size = 0.2, random_state=57)"
      ],
      "execution_count": null,
      "outputs": []
    },
    {
      "cell_type": "code",
      "metadata": {
        "colab": {
          "base_uri": "https://localhost:8080/"
        },
        "id": "I4hzgjqxyRJc",
        "outputId": "0a0f3a3f-5cec-47ba-f8ae-a7592a23e82c"
      },
      "source": [
        "df.head()\n",
        "\n",
        "batch_size = 16\n",
        "\n",
        "from keras_preprocessing.image import ImageDataGenerator\n",
        "\n",
        "train_image_generator = ImageDataGenerator(\n",
        "    rescale= 1./255,\n",
        "    shear_range=0.2,\n",
        "        zoom_range=0.2,\n",
        "        horizontal_flip=True\n",
        "    #validation_split=0.2\n",
        ")\n",
        "validation_image_generator = ImageDataGenerator(\n",
        "    rescale= 1./255,\n",
        "    #validation_split=0.2\n",
        ")\n",
        "\n",
        "training_generator = train_image_generator.flow_from_dataframe(\n",
        "    dataframe=train_df,\n",
        "    directory=img_path,\n",
        "    x_col=\"id\",\n",
        "    y_col=\"gender\",\n",
        "    target_size=(96,96),\n",
        "    batch_size=batch_size,\n",
        "    #subset=\"training\"\n",
        ")\n",
        "\n",
        "validation_generator = validation_image_generator.flow_from_dataframe(\n",
        "    dataframe=validation_df,\n",
        "    directory=img_path,\n",
        "    x_col=\"id\",\n",
        "    y_col=\"gender\",\n",
        "    target_size=(96,96),\n",
        "    batch_size=batch_size,\n",
        "    #subset=\"validation\"\n",
        ")\n",
        "test_generator = validation_image_generator.flow_from_dataframe(\n",
        "    dataframe=test_df,\n",
        "    directory=img_path,\n",
        "    x_col=\"id\",\n",
        "    y_col=\"gender\",\n",
        "    target_size=(96,96),\n",
        "    batch_size=batch_size,\n",
        "    #subset=\"validation\"\n",
        ")\n",
        "\n",
        "classes = len(training_generator.class_indices)"
      ],
      "execution_count": null,
      "outputs": [
        {
          "name": "stdout",
          "output_type": "stream",
          "text": [
            "Found 35420 validated image filenames belonging to 5 classes.\n",
            "Found 8856 validated image filenames belonging to 5 classes.\n",
            "Found 4428 validated image filenames belonging to 5 classes.\n"
          ]
        }
      ]
    },
    {
      "cell_type": "code",
      "metadata": {
        "colab": {
          "background_save": true
        },
        "id": "FYj5vbim1nma"
      },
      "source": [
        "import tensorflow as tf\n",
        "from tensorflow import keras\n",
        "from keras.layers import Conv2D, MaxPooling2D, Flatten, Dense, BatchNormalization,Dropout\n",
        "from keras.models import Sequential\n",
        "\n",
        "model = Sequential()\n",
        "\n",
        "model.add(Conv2D(32,(3,3), activation = 'relu', input_shape = (96,96,3)))\n",
        "model.add(MaxPooling2D(pool_size = (2,2)))\n",
        "model.add(Conv2D(32,(3,3), activation = 'relu'))\n",
        "model.add(MaxPooling2D(pool_size = (2,2)))\n",
        "model.add(BatchNormalization())\n",
        "model.add(Conv2D(32,(3,3), activation = 'relu'))\n",
        "model.add(MaxPooling2D(pool_size = (2,2)))\n",
        "model.add(BatchNormalization())\n",
        "model.add(Flatten())\n",
        "model.add(Dense(256, activation='relu'))\n",
        "model.add(Dropout(0.25))\n",
        "model.add(Dense(classes, activation='softmax'))\n",
        "\n",
        "model.compile(optimizer=keras.optimizers.Adam(learning_rate=0.0005), loss=tf.keras.losses.categorical_crossentropy, metrics=['accuracy'])\n",
        "model.summary()\n",
        "batch_size = 16\n",
        "total_train = train_df.shape[0]\n",
        "total_validation = validation_df.shape[0]\n",
        "vgg_classifier = model.fit(training_generator,\n",
        "steps_per_epoch=(total_train//batch_size),\n",
        "epochs = 10,\n",
        "validation_data=validation_generator,\n",
        "validation_steps=(total_validation//batch_size),\n",
        "batch_size = batch_size,\n",
        "verbose=1)"
      ],
      "execution_count": null,
      "outputs": []
    },
    {
      "cell_type": "code",
      "metadata": {
        "id": "T0U_AjnO10xO"
      },
      "source": [
        "model.save('modelForGender.h5')\n",
        "result = model.evaluate(test_generator,batch_size=16)\n",
        "print(\"test_loss, test accuracy\",result)"
      ],
      "execution_count": null,
      "outputs": []
    }
  ]
}